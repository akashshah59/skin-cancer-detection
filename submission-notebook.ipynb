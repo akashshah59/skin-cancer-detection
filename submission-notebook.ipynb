{
 "cells": [
  {
   "cell_type": "code",
   "execution_count": 1,
   "id": "861969c7",
   "metadata": {
    "_cell_guid": "b1076dfc-b9ad-4769-8c92-a6c4dae69d19",
    "_uuid": "8f2839f25d086af736a60e9eeb907d3b93b6e0e5",
    "execution": {
     "iopub.execute_input": "2024-07-09T21:37:04.626378Z",
     "iopub.status.busy": "2024-07-09T21:37:04.625525Z",
     "iopub.status.idle": "2024-07-09T21:37:05.749704Z",
     "shell.execute_reply": "2024-07-09T21:37:05.748461Z"
    },
    "papermill": {
     "duration": 1.137008,
     "end_time": "2024-07-09T21:37:05.752892",
     "exception": false,
     "start_time": "2024-07-09T21:37:04.615884",
     "status": "completed"
    },
    "tags": []
   },
   "outputs": [],
   "source": [
    "# This Python 3 environment comes with many helpful analytics libraries installed\n",
    "# It is defined by the kaggle/python Docker image: https://github.com/kaggle/docker-python\n",
    "# For example, here's several helpful packages to load\n",
    "\n",
    "import numpy as np # linear algebra\n",
    "import pandas as pd # data processing, CSV file I/O (e.g. pd.read_csv)\n",
    "\n",
    "# Input data files are available in the read-only \"../input/\" directory\n",
    "# For example, running this (by clicking run or pressing Shift+Enter) will list all files under the input directory\n",
    "\n",
    "import os"
   ]
  },
  {
   "cell_type": "code",
   "execution_count": 2,
   "id": "f3f5969e",
   "metadata": {
    "execution": {
     "iopub.execute_input": "2024-07-09T21:37:05.763247Z",
     "iopub.status.busy": "2024-07-09T21:37:05.762617Z",
     "iopub.status.idle": "2024-07-09T21:37:06.490980Z",
     "shell.execute_reply": "2024-07-09T21:37:06.489542Z"
    },
    "papermill": {
     "duration": 0.736969,
     "end_time": "2024-07-09T21:37:06.494260",
     "exception": false,
     "start_time": "2024-07-09T21:37:05.757291",
     "status": "completed"
    },
    "tags": []
   },
   "outputs": [
    {
     "name": "stderr",
     "output_type": "stream",
     "text": [
      "Attaching model 'akashshah59/skin-cancer-metadata-model/scikitLearn/cancer-detect-metadata' to your Kaggle notebook...\n"
     ]
    },
    {
     "name": "stdout",
     "output_type": "stream",
     "text": [
      "Path to model files: /kaggle/input/skin-cancer-metadata-model/scikitlearn/cancer-detect-metadata/1\n"
     ]
    }
   ],
   "source": [
    "import kagglehub\n",
    "\n",
    "# Download latest version\n",
    "path = kagglehub.model_download(\"akashshah59/skin-cancer-metadata-model/scikitLearn/cancer-detect-metadata\")\n",
    "\n",
    "print(\"Path to model files:\", path)"
   ]
  },
  {
   "cell_type": "code",
   "execution_count": 3,
   "id": "bde243c6",
   "metadata": {
    "execution": {
     "iopub.execute_input": "2024-07-09T21:37:06.503938Z",
     "iopub.status.busy": "2024-07-09T21:37:06.503488Z",
     "iopub.status.idle": "2024-07-09T21:37:06.522666Z",
     "shell.execute_reply": "2024-07-09T21:37:06.521331Z"
    },
    "papermill": {
     "duration": 0.027661,
     "end_time": "2024-07-09T21:37:06.525872",
     "exception": false,
     "start_time": "2024-07-09T21:37:06.498211",
     "status": "completed"
    },
    "tags": []
   },
   "outputs": [],
   "source": [
    "test_metadata = pd.read_csv('/kaggle/input/isic-2024-challenge/test-metadata.csv',low_memory =True)"
   ]
  },
  {
   "cell_type": "code",
   "execution_count": 4,
   "id": "5fd69cf8",
   "metadata": {
    "execution": {
     "iopub.execute_input": "2024-07-09T21:37:06.535562Z",
     "iopub.status.busy": "2024-07-09T21:37:06.535130Z",
     "iopub.status.idle": "2024-07-09T21:37:13.803960Z",
     "shell.execute_reply": "2024-07-09T21:37:13.802595Z"
    },
    "papermill": {
     "duration": 7.277237,
     "end_time": "2024-07-09T21:37:13.807057",
     "exception": false,
     "start_time": "2024-07-09T21:37:06.529820",
     "status": "completed"
    },
    "tags": []
   },
   "outputs": [],
   "source": [
    "import pickle\n",
    "\n",
    "with open(path + '/metadata-model.pkl','rb') as f:\n",
    "    obj = pickle.load(f)"
   ]
  },
  {
   "cell_type": "code",
   "execution_count": 5,
   "id": "3afb6e03",
   "metadata": {
    "execution": {
     "iopub.execute_input": "2024-07-09T21:37:13.817567Z",
     "iopub.status.busy": "2024-07-09T21:37:13.816846Z",
     "iopub.status.idle": "2024-07-09T21:37:14.152241Z",
     "shell.execute_reply": "2024-07-09T21:37:14.150686Z"
    },
    "papermill": {
     "duration": 0.344221,
     "end_time": "2024-07-09T21:37:14.155353",
     "exception": false,
     "start_time": "2024-07-09T21:37:13.811132",
     "status": "completed"
    },
    "tags": []
   },
   "outputs": [],
   "source": [
    "probs = obj.predict_proba(test_metadata)[:,1]\n",
    "test_metadata['target'] = probs"
   ]
  },
  {
   "cell_type": "code",
   "execution_count": 6,
   "id": "bf932cc7",
   "metadata": {
    "execution": {
     "iopub.execute_input": "2024-07-09T21:37:14.165567Z",
     "iopub.status.busy": "2024-07-09T21:37:14.165127Z",
     "iopub.status.idle": "2024-07-09T21:37:14.180573Z",
     "shell.execute_reply": "2024-07-09T21:37:14.178973Z"
    },
    "papermill": {
     "duration": 0.024727,
     "end_time": "2024-07-09T21:37:14.183932",
     "exception": false,
     "start_time": "2024-07-09T21:37:14.159205",
     "status": "completed"
    },
    "tags": []
   },
   "outputs": [],
   "source": [
    "test_metadata[['isic_id','target']].to_csv('submission.csv', index = False)"
   ]
  },
  {
   "cell_type": "code",
   "execution_count": null,
   "id": "560b5c24",
   "metadata": {
    "papermill": {
     "duration": 0.003536,
     "end_time": "2024-07-09T21:37:14.191519",
     "exception": false,
     "start_time": "2024-07-09T21:37:14.187983",
     "status": "completed"
    },
    "tags": []
   },
   "outputs": [],
   "source": []
  }
 ],
 "metadata": {
  "kaggle": {
   "accelerator": "none",
   "dataSources": [
    {
     "databundleVersionId": 8940774,
     "sourceId": 63056,
     "sourceType": "competition"
    },
    {
     "modelInstanceId": 63733,
     "sourceId": 75848,
     "sourceType": "modelInstanceVersion"
    }
   ],
   "dockerImageVersionId": 30732,
   "isGpuEnabled": false,
   "isInternetEnabled": false,
   "language": "python",
   "sourceType": "notebook"
  },
  "kernelspec": {
   "display_name": "Python 3",
   "language": "python",
   "name": "python3"
  },
  "language_info": {
   "codemirror_mode": {
    "name": "ipython",
    "version": 3
   },
   "file_extension": ".py",
   "mimetype": "text/x-python",
   "name": "python",
   "nbconvert_exporter": "python",
   "pygments_lexer": "ipython3",
   "version": "3.10.13"
  },
  "papermill": {
   "default_parameters": {},
   "duration": 13.985161,
   "end_time": "2024-07-09T21:37:15.018071",
   "environment_variables": {},
   "exception": null,
   "input_path": "__notebook__.ipynb",
   "output_path": "__notebook__.ipynb",
   "parameters": {},
   "start_time": "2024-07-09T21:37:01.032910",
   "version": "2.5.0"
  }
 },
 "nbformat": 4,
 "nbformat_minor": 5
}
