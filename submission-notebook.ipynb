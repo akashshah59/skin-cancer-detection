{
 "cells": [
  {
   "cell_type": "code",
   "execution_count": 1,
   "id": "e4076a0d",
   "metadata": {
    "_cell_guid": "b1076dfc-b9ad-4769-8c92-a6c4dae69d19",
    "_uuid": "8f2839f25d086af736a60e9eeb907d3b93b6e0e5",
    "execution": {
     "iopub.execute_input": "2024-07-09T21:50:27.083241Z",
     "iopub.status.busy": "2024-07-09T21:50:27.082812Z",
     "iopub.status.idle": "2024-07-09T21:50:28.125201Z",
     "shell.execute_reply": "2024-07-09T21:50:28.123894Z"
    },
    "papermill": {
     "duration": 1.051572,
     "end_time": "2024-07-09T21:50:28.128083",
     "exception": false,
     "start_time": "2024-07-09T21:50:27.076511",
     "status": "completed"
    },
    "tags": []
   },
   "outputs": [],
   "source": [
    "# This Python 3 environment comes with many helpful analytics libraries installed\n",
    "# It is defined by the kaggle/python Docker image: https://github.com/kaggle/docker-python\n",
    "# For example, here's several helpful packages to load\n",
    "\n",
    "import numpy as np # linear algebra\n",
    "import pandas as pd # data processing, CSV file I/O (e.g. pd.read_csv)\n",
    "\n",
    "# Input data files are available in the read-only \"../input/\" directory\n",
    "# For example, running this (by clicking run or pressing Shift+Enter) will list all files under the input directory\n",
    "\n",
    "import os"
   ]
  },
  {
   "cell_type": "code",
   "execution_count": 2,
   "id": "8231e120",
   "metadata": {
    "execution": {
     "iopub.execute_input": "2024-07-09T21:50:28.138103Z",
     "iopub.status.busy": "2024-07-09T21:50:28.137444Z",
     "iopub.status.idle": "2024-07-09T21:50:28.553291Z",
     "shell.execute_reply": "2024-07-09T21:50:28.551271Z"
    },
    "papermill": {
     "duration": 0.423901,
     "end_time": "2024-07-09T21:50:28.556121",
     "exception": false,
     "start_time": "2024-07-09T21:50:28.132220",
     "status": "completed"
    },
    "tags": []
   },
   "outputs": [
    {
     "name": "stderr",
     "output_type": "stream",
     "text": [
      "Attaching model 'akashshah59/skin-cancer-metadata-model/scikitLearn/cancer-detect-metadata' to your Kaggle notebook...\n"
     ]
    },
    {
     "name": "stdout",
     "output_type": "stream",
     "text": [
      "Path to model files: /kaggle/input/skin-cancer-metadata-model/scikitlearn/cancer-detect-metadata/1\n"
     ]
    }
   ],
   "source": [
    "import kagglehub\n",
    "\n",
    "# Download latest version\n",
    "path = kagglehub.model_download(\"akashshah59/skin-cancer-metadata-model/scikitLearn/cancer-detect-metadata\")\n",
    "\n",
    "print(\"Path to model files:\", path)"
   ]
  },
  {
   "cell_type": "code",
   "execution_count": 3,
   "id": "fe29c573",
   "metadata": {
    "execution": {
     "iopub.execute_input": "2024-07-09T21:50:28.566486Z",
     "iopub.status.busy": "2024-07-09T21:50:28.566069Z",
     "iopub.status.idle": "2024-07-09T21:50:28.582607Z",
     "shell.execute_reply": "2024-07-09T21:50:28.581410Z"
    },
    "papermill": {
     "duration": 0.025619,
     "end_time": "2024-07-09T21:50:28.585919",
     "exception": false,
     "start_time": "2024-07-09T21:50:28.560300",
     "status": "completed"
    },
    "tags": []
   },
   "outputs": [],
   "source": [
    "test_metadata = pd.read_csv('/kaggle/input/isic-2024-challenge/test-metadata.csv',low_memory =True)"
   ]
  },
  {
   "cell_type": "code",
   "execution_count": 4,
   "id": "a46113eb",
   "metadata": {
    "execution": {
     "iopub.execute_input": "2024-07-09T21:50:28.596329Z",
     "iopub.status.busy": "2024-07-09T21:50:28.595945Z",
     "iopub.status.idle": "2024-07-09T21:50:35.053600Z",
     "shell.execute_reply": "2024-07-09T21:50:35.052085Z"
    },
    "papermill": {
     "duration": 6.466565,
     "end_time": "2024-07-09T21:50:35.056646",
     "exception": false,
     "start_time": "2024-07-09T21:50:28.590081",
     "status": "completed"
    },
    "tags": []
   },
   "outputs": [],
   "source": [
    "import pickle\n",
    "\n",
    "with open(path + '/metadata-model.pkl','rb') as f:\n",
    "    obj = pickle.load(f)"
   ]
  },
  {
   "cell_type": "code",
   "execution_count": 5,
   "id": "20eaa34d",
   "metadata": {
    "execution": {
     "iopub.execute_input": "2024-07-09T21:50:35.067457Z",
     "iopub.status.busy": "2024-07-09T21:50:35.066762Z",
     "iopub.status.idle": "2024-07-09T21:50:35.389009Z",
     "shell.execute_reply": "2024-07-09T21:50:35.387064Z"
    },
    "papermill": {
     "duration": 0.331163,
     "end_time": "2024-07-09T21:50:35.392193",
     "exception": false,
     "start_time": "2024-07-09T21:50:35.061030",
     "status": "completed"
    },
    "tags": []
   },
   "outputs": [],
   "source": [
    "probs = obj.predict_proba(test_metadata)[:,1]\n",
    "test_metadata['target'] = probs"
   ]
  },
  {
   "cell_type": "code",
   "execution_count": 6,
   "id": "33d70f0f",
   "metadata": {
    "execution": {
     "iopub.execute_input": "2024-07-09T21:50:35.403362Z",
     "iopub.status.busy": "2024-07-09T21:50:35.402191Z",
     "iopub.status.idle": "2024-07-09T21:50:35.414635Z",
     "shell.execute_reply": "2024-07-09T21:50:35.413532Z"
    },
    "papermill": {
     "duration": 0.0207,
     "end_time": "2024-07-09T21:50:35.417147",
     "exception": false,
     "start_time": "2024-07-09T21:50:35.396447",
     "status": "completed"
    },
    "tags": []
   },
   "outputs": [],
   "source": [
    "test_metadata[['isic_id','target']].to_csv('submission.csv', index = False)"
   ]
  },
  {
   "cell_type": "code",
   "execution_count": 7,
   "id": "46526e8f",
   "metadata": {
    "execution": {
     "iopub.execute_input": "2024-07-09T21:50:35.427091Z",
     "iopub.status.busy": "2024-07-09T21:50:35.426676Z",
     "iopub.status.idle": "2024-07-09T21:50:35.447095Z",
     "shell.execute_reply": "2024-07-09T21:50:35.445760Z"
    },
    "papermill": {
     "duration": 0.028955,
     "end_time": "2024-07-09T21:50:35.450168",
     "exception": false,
     "start_time": "2024-07-09T21:50:35.421213",
     "status": "completed"
    },
    "tags": []
   },
   "outputs": [
    {
     "data": {
      "text/html": [
       "<div>\n",
       "<style scoped>\n",
       "    .dataframe tbody tr th:only-of-type {\n",
       "        vertical-align: middle;\n",
       "    }\n",
       "\n",
       "    .dataframe tbody tr th {\n",
       "        vertical-align: top;\n",
       "    }\n",
       "\n",
       "    .dataframe thead th {\n",
       "        text-align: right;\n",
       "    }\n",
       "</style>\n",
       "<table border=\"1\" class=\"dataframe\">\n",
       "  <thead>\n",
       "    <tr style=\"text-align: right;\">\n",
       "      <th></th>\n",
       "      <th>isic_id</th>\n",
       "      <th>target</th>\n",
       "    </tr>\n",
       "  </thead>\n",
       "  <tbody>\n",
       "    <tr>\n",
       "      <th>0</th>\n",
       "      <td>ISIC_0015657</td>\n",
       "      <td>0.001341</td>\n",
       "    </tr>\n",
       "    <tr>\n",
       "      <th>1</th>\n",
       "      <td>ISIC_0015729</td>\n",
       "      <td>0.000539</td>\n",
       "    </tr>\n",
       "    <tr>\n",
       "      <th>2</th>\n",
       "      <td>ISIC_0015740</td>\n",
       "      <td>0.004287</td>\n",
       "    </tr>\n",
       "  </tbody>\n",
       "</table>\n",
       "</div>"
      ],
      "text/plain": [
       "        isic_id    target\n",
       "0  ISIC_0015657  0.001341\n",
       "1  ISIC_0015729  0.000539\n",
       "2  ISIC_0015740  0.004287"
      ]
     },
     "execution_count": 7,
     "metadata": {},
     "output_type": "execute_result"
    }
   ],
   "source": [
    "test_metadata[['isic_id','target']]"
   ]
  },
  {
   "cell_type": "code",
   "execution_count": null,
   "id": "2b7ad57a",
   "metadata": {
    "papermill": {
     "duration": 0.0042,
     "end_time": "2024-07-09T21:50:35.458670",
     "exception": false,
     "start_time": "2024-07-09T21:50:35.454470",
     "status": "completed"
    },
    "tags": []
   },
   "outputs": [],
   "source": []
  }
 ],
 "metadata": {
  "kaggle": {
   "accelerator": "none",
   "dataSources": [
    {
     "databundleVersionId": 8940774,
     "sourceId": 63056,
     "sourceType": "competition"
    },
    {
     "modelInstanceId": 63733,
     "sourceId": 75848,
     "sourceType": "modelInstanceVersion"
    }
   ],
   "dockerImageVersionId": 30732,
   "isGpuEnabled": false,
   "isInternetEnabled": false,
   "language": "python",
   "sourceType": "notebook"
  },
  "kernelspec": {
   "display_name": "Python 3",
   "language": "python",
   "name": "python3"
  },
  "language_info": {
   "codemirror_mode": {
    "name": "ipython",
    "version": 3
   },
   "file_extension": ".py",
   "mimetype": "text/x-python",
   "name": "python",
   "nbconvert_exporter": "python",
   "pygments_lexer": "ipython3",
   "version": "3.10.13"
  },
  "papermill": {
   "default_parameters": {},
   "duration": 12.460578,
   "end_time": "2024-07-09T21:50:36.286501",
   "environment_variables": {},
   "exception": null,
   "input_path": "__notebook__.ipynb",
   "output_path": "__notebook__.ipynb",
   "parameters": {},
   "start_time": "2024-07-09T21:50:23.825923",
   "version": "2.5.0"
  }
 },
 "nbformat": 4,
 "nbformat_minor": 5
}
