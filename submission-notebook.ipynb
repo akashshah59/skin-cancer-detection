{
 "cells": [
  {
   "cell_type": "code",
   "execution_count": 1,
   "id": "cf0eeeb5",
   "metadata": {
    "_cell_guid": "b1076dfc-b9ad-4769-8c92-a6c4dae69d19",
    "_uuid": "8f2839f25d086af736a60e9eeb907d3b93b6e0e5",
    "execution": {
     "iopub.execute_input": "2024-07-09T21:27:13.818385Z",
     "iopub.status.busy": "2024-07-09T21:27:13.817979Z",
     "iopub.status.idle": "2024-07-09T21:27:14.635307Z",
     "shell.execute_reply": "2024-07-09T21:27:14.634214Z"
    },
    "papermill": {
     "duration": 0.825784,
     "end_time": "2024-07-09T21:27:14.638126",
     "exception": false,
     "start_time": "2024-07-09T21:27:13.812342",
     "status": "completed"
    },
    "tags": []
   },
   "outputs": [],
   "source": [
    "# This Python 3 environment comes with many helpful analytics libraries installed\n",
    "# It is defined by the kaggle/python Docker image: https://github.com/kaggle/docker-python\n",
    "# For example, here's several helpful packages to load\n",
    "\n",
    "import numpy as np # linear algebra\n",
    "import pandas as pd # data processing, CSV file I/O (e.g. pd.read_csv)\n",
    "\n",
    "# Input data files are available in the read-only \"../input/\" directory\n",
    "# For example, running this (by clicking run or pressing Shift+Enter) will list all files under the input directory\n",
    "\n",
    "import os"
   ]
  },
  {
   "cell_type": "code",
   "execution_count": 2,
   "id": "6d82a442",
   "metadata": {
    "execution": {
     "iopub.execute_input": "2024-07-09T21:27:14.646629Z",
     "iopub.status.busy": "2024-07-09T21:27:14.646151Z",
     "iopub.status.idle": "2024-07-09T21:27:15.399614Z",
     "shell.execute_reply": "2024-07-09T21:27:15.398354Z"
    },
    "papermill": {
     "duration": 0.760556,
     "end_time": "2024-07-09T21:27:15.402359",
     "exception": false,
     "start_time": "2024-07-09T21:27:14.641803",
     "status": "completed"
    },
    "tags": []
   },
   "outputs": [
    {
     "name": "stderr",
     "output_type": "stream",
     "text": [
      "Attaching model 'akashshah59/skin-cancer-metadata-model/scikitLearn/cancer-detect-metadata' to your Kaggle notebook...\n"
     ]
    },
    {
     "name": "stdout",
     "output_type": "stream",
     "text": [
      "Path to model files: /kaggle/input/skin-cancer-metadata-model/scikitlearn/cancer-detect-metadata/1\n"
     ]
    }
   ],
   "source": [
    "import kagglehub\n",
    "\n",
    "# Download latest version\n",
    "path = kagglehub.model_download(\"akashshah59/skin-cancer-metadata-model/scikitLearn/cancer-detect-metadata\")\n",
    "\n",
    "print(\"Path to model files:\", path)"
   ]
  },
  {
   "cell_type": "code",
   "execution_count": 3,
   "id": "e532ba83",
   "metadata": {
    "execution": {
     "iopub.execute_input": "2024-07-09T21:27:15.410996Z",
     "iopub.status.busy": "2024-07-09T21:27:15.410648Z",
     "iopub.status.idle": "2024-07-09T21:27:15.426654Z",
     "shell.execute_reply": "2024-07-09T21:27:15.425772Z"
    },
    "papermill": {
     "duration": 0.023456,
     "end_time": "2024-07-09T21:27:15.429305",
     "exception": false,
     "start_time": "2024-07-09T21:27:15.405849",
     "status": "completed"
    },
    "tags": []
   },
   "outputs": [],
   "source": [
    "test_metadata = pd.read_csv('/kaggle/input/isic-2024-challenge/test-metadata.csv',low_memory =True)"
   ]
  },
  {
   "cell_type": "code",
   "execution_count": 4,
   "id": "ddba5dad",
   "metadata": {
    "execution": {
     "iopub.execute_input": "2024-07-09T21:27:15.437669Z",
     "iopub.status.busy": "2024-07-09T21:27:15.437328Z",
     "iopub.status.idle": "2024-07-09T21:27:21.058546Z",
     "shell.execute_reply": "2024-07-09T21:27:21.057563Z"
    },
    "papermill": {
     "duration": 5.628312,
     "end_time": "2024-07-09T21:27:21.061202",
     "exception": false,
     "start_time": "2024-07-09T21:27:15.432890",
     "status": "completed"
    },
    "tags": []
   },
   "outputs": [],
   "source": [
    "import pickle\n",
    "\n",
    "with open(path + '/metadata-model.pkl','rb') as f:\n",
    "    obj = pickle.load(f)"
   ]
  },
  {
   "cell_type": "code",
   "execution_count": 5,
   "id": "d9d30ccf",
   "metadata": {
    "execution": {
     "iopub.execute_input": "2024-07-09T21:27:21.070241Z",
     "iopub.status.busy": "2024-07-09T21:27:21.069239Z",
     "iopub.status.idle": "2024-07-09T21:27:21.358420Z",
     "shell.execute_reply": "2024-07-09T21:27:21.357067Z"
    },
    "papermill": {
     "duration": 0.296449,
     "end_time": "2024-07-09T21:27:21.361139",
     "exception": false,
     "start_time": "2024-07-09T21:27:21.064690",
     "status": "completed"
    },
    "tags": []
   },
   "outputs": [],
   "source": [
    "probs = obj.predict_proba(test_metadata)[:,1]\n",
    "test_metadata['target'] = probs"
   ]
  },
  {
   "cell_type": "code",
   "execution_count": 6,
   "id": "bc0d7ee9",
   "metadata": {
    "execution": {
     "iopub.execute_input": "2024-07-09T21:27:21.369973Z",
     "iopub.status.busy": "2024-07-09T21:27:21.369305Z",
     "iopub.status.idle": "2024-07-09T21:27:21.379674Z",
     "shell.execute_reply": "2024-07-09T21:27:21.378676Z"
    },
    "papermill": {
     "duration": 0.017176,
     "end_time": "2024-07-09T21:27:21.381883",
     "exception": false,
     "start_time": "2024-07-09T21:27:21.364707",
     "status": "completed"
    },
    "tags": []
   },
   "outputs": [],
   "source": [
    "test_metadata[['isic_id','target']].to_csv('submission.csv', index = False)"
   ]
  },
  {
   "cell_type": "code",
   "execution_count": null,
   "id": "6e2f43c9",
   "metadata": {
    "papermill": {
     "duration": 0.003119,
     "end_time": "2024-07-09T21:27:21.388373",
     "exception": false,
     "start_time": "2024-07-09T21:27:21.385254",
     "status": "completed"
    },
    "tags": []
   },
   "outputs": [],
   "source": []
  }
 ],
 "metadata": {
  "kaggle": {
   "accelerator": "none",
   "dataSources": [
    {
     "databundleVersionId": 8940774,
     "sourceId": 63056,
     "sourceType": "competition"
    },
    {
     "modelInstanceId": 63733,
     "sourceId": 75848,
     "sourceType": "modelInstanceVersion"
    }
   ],
   "dockerImageVersionId": 30732,
   "isGpuEnabled": false,
   "isInternetEnabled": false,
   "language": "python",
   "sourceType": "notebook"
  },
  "kernelspec": {
   "display_name": "Python 3",
   "language": "python",
   "name": "python3"
  },
  "language_info": {
   "codemirror_mode": {
    "name": "ipython",
    "version": 3
   },
   "file_extension": ".py",
   "mimetype": "text/x-python",
   "name": "python",
   "nbconvert_exporter": "python",
   "pygments_lexer": "ipython3",
   "version": "3.10.13"
  },
  "papermill": {
   "default_parameters": {},
   "duration": 11.151281,
   "end_time": "2024-07-09T21:27:22.112196",
   "environment_variables": {},
   "exception": null,
   "input_path": "__notebook__.ipynb",
   "output_path": "__notebook__.ipynb",
   "parameters": {},
   "start_time": "2024-07-09T21:27:10.960915",
   "version": "2.5.0"
  }
 },
 "nbformat": 4,
 "nbformat_minor": 5
}
